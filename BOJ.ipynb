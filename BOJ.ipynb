{
 "cells": [
  {
   "cell_type": "code",
   "execution_count": null,
   "id": "758c3b4b",
   "metadata": {},
   "outputs": [],
   "source": [
    "n(1) = 1 1\n",
    "n(2) = 1 10\n",
    "n(3) = 2 100,101\n",
    "n(4) = 3 1000, 1001,1010\n",
    "n(5) = 5 10000,10001,10010,10101,10100"
   ]
  },
  {
   "cell_type": "code",
   "execution_count": 1,
   "id": "6e9e99a1",
   "metadata": {},
   "outputs": [
    {
     "ename": "SyntaxError",
     "evalue": "incomplete input (2672998440.py, line 3)",
     "output_type": "error",
     "traceback": [
      "\u001b[0;36m  Cell \u001b[0;32mIn[1], line 3\u001b[0;36m\u001b[0m\n\u001b[0;31m    for i in range(n):\u001b[0m\n\u001b[0m                      ^\u001b[0m\n\u001b[0;31mSyntaxError\u001b[0m\u001b[0;31m:\u001b[0m incomplete input\n"
     ]
    }
   ],
   "source": [
    "n = int(input())\n",
    "\n",
    "dp = [0] * 91\n",
    "dp[1] = 1\n",
    "dp[2] = 1\n",
    "\n",
    "\n",
    "for i in range(3,n+1):\n",
    "    dp[i] = dp[i-1] + dp[i-2]\n",
    "    \n",
    "print(dp[n])\n",
    "    "
   ]
  },
  {
   "cell_type": "code",
   "execution_count": 13,
   "id": "516ba548",
   "metadata": {},
   "outputs": [
    {
     "data": {
      "text/plain": [
       "14"
      ]
     },
     "execution_count": 13,
     "metadata": {},
     "output_type": "execute_result"
    }
   ],
   "source": [
    "data = [[6,13],[4,8],[3,6],[5,12]]\n",
    "\n",
    "\n",
    "\n",
    "goal = 7\n",
    "dp = [0] * (goal+1)\n",
    "\n",
    "for i in data:\n",
    "    for j in range(i[0],goal+1):\n",
    "        dp[j] = max(dp[j],dp[j-i[0]]+i[1])\n",
    "        \n",
    "dp[7]\n"
   ]
  },
  {
   "cell_type": "code",
   "execution_count": 15,
   "id": "f6af1aba",
   "metadata": {},
   "outputs": [
    {
     "name": "stdout",
     "output_type": "stream",
     "text": [
      "4 7\n",
      "6 13\n",
      "4 8\n",
      "3 6\n",
      "5 12\n",
      "[[6, 13], [4, 8], [3, 6], [5, 12]]\n",
      "14\n"
     ]
    }
   ],
   "source": [
    "n,k = map(int,input().split())\n",
    "data = [list(map(int,input().split())) for _ in range(n)]\n",
    "\n",
    "dp = [0] * (k+1)\n",
    "\n",
    "for i in data:\n",
    "    for j in range(i[0],k+1):\n",
    "        dp[j] = max(dp[j],dp[j-i[0]]+i[1])\n",
    "        \n",
    "print(dp[k])\n"
   ]
  },
  {
   "cell_type": "code",
   "execution_count": 16,
   "id": "884a004c",
   "metadata": {},
   "outputs": [
    {
     "name": "stdout",
     "output_type": "stream",
     "text": [
      "6\n",
      "8\n"
     ]
    }
   ],
   "source": [
    "n = int(input())\n",
    "\n",
    "dp = [0] * 91\n",
    "dp[1] = 1\n",
    "dp[2] = 1\n",
    "\n",
    "\n",
    "for i in range(3,n+1):\n",
    "    dp[i] = dp[i-1] + dp[i-2]\n",
    "    \n",
    "print(dp[n])\n",
    "    "
   ]
  },
  {
   "cell_type": "code",
   "execution_count": 92,
   "id": "411c3f12",
   "metadata": {},
   "outputs": [
    {
     "name": "stdout",
     "output_type": "stream",
     "text": [
      "3\n",
      "0\n",
      "1\n",
      "3\n",
      "1 0\n",
      "0 1\n",
      "1 2\n"
     ]
    }
   ],
   "source": [
    "t = int(input())\n",
    "number = [int(input()) for _ in range(t)]\n",
    "\n",
    "for n in number:\n",
    "    \n",
    "    case = {0:(0,1),1:(1,1)}\n",
    "    if n == 0:\n",
    "        print(1,0)\n",
    "    elif n == 1:\n",
    "        print(0,1)\n",
    "    else :\n",
    "        for i in range(2,n+1):\n",
    "            case[i] = (case[i-1][0] + case[i-2][0],case[i-1][1] + case[i-2][1])\n",
    "        \n",
    "        print(*case[n-1])\n",
    "\n",
    "    \n",
    "    "
   ]
  },
  {
   "cell_type": "code",
   "execution_count": 70,
   "id": "fc667369",
   "metadata": {
    "scrolled": true
   },
   "outputs": [
    {
     "name": "stdout",
     "output_type": "stream",
     "text": [
      "0\n",
      "0\n",
      "1\n",
      "0\n",
      "2\n",
      "1\n",
      "0\n",
      "0\n"
     ]
    },
    {
     "data": {
      "text/plain": [
       "8"
      ]
     },
     "execution_count": 70,
     "metadata": {},
     "output_type": "execute_result"
    }
   ],
   "source": [
    "fibo(6)"
   ]
  },
  {
   "cell_type": "code",
   "execution_count": 67,
   "id": "a2556b86",
   "metadata": {},
   "outputs": [
    {
     "data": {
      "text/plain": [
       "{0: (0, 1), 1: (1, 1), 2: (1, 2), 3: (2, 3), 4: (3, 5)}"
      ]
     },
     "execution_count": 67,
     "metadata": {},
     "output_type": "execute_result"
    }
   ],
   "source": [
    "case"
   ]
  },
  {
   "cell_type": "code",
   "execution_count": 60,
   "id": "2703fc31",
   "metadata": {},
   "outputs": [],
   "source": [
    "n =3\n",
    "case[n] = (case[n-1][0] + case[n-2][0],case[n-1][1] + case[n-2][1])"
   ]
  },
  {
   "cell_type": "code",
   "execution_count": null,
   "id": "55bf80a6",
   "metadata": {},
   "outputs": [],
   "source": []
  },
  {
   "cell_type": "code",
   "execution_count": 59,
   "id": "69ba6eb1",
   "metadata": {},
   "outputs": [
    {
     "data": {
      "text/plain": [
       "{0: (0, 1), 1: (1, 1), 2: (1, 2)}"
      ]
     },
     "execution_count": 59,
     "metadata": {},
     "output_type": "execute_result"
    }
   ],
   "source": [
    "case"
   ]
  },
  {
   "cell_type": "code",
   "execution_count": 96,
   "id": "3f0719a4",
   "metadata": {},
   "outputs": [
    {
     "data": {
      "text/plain": [
       "65"
      ]
     },
     "execution_count": 96,
     "metadata": {},
     "output_type": "execute_result"
    }
   ],
   "source": [
    "ord('A')"
   ]
  }
 ],
 "metadata": {
  "kernelspec": {
   "display_name": "Python 3 (ipykernel)",
   "language": "python",
   "name": "python3"
  },
  "language_info": {
   "codemirror_mode": {
    "name": "ipython",
    "version": 3
   },
   "file_extension": ".py",
   "mimetype": "text/x-python",
   "name": "python",
   "nbconvert_exporter": "python",
   "pygments_lexer": "ipython3",
   "version": "3.10.9"
  }
 },
 "nbformat": 4,
 "nbformat_minor": 5
}
