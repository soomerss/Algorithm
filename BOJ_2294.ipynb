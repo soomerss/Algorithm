{
 "cells": [
  {
   "cell_type": "code",
   "execution_count": 6,
   "id": "e1ab33c8",
   "metadata": {},
   "outputs": [
    {
     "name": "stdout",
     "output_type": "stream",
     "text": [
      "3 15\n",
      "1\n",
      "5\n",
      "12\n",
      "3\n"
     ]
    }
   ],
   "source": [
    "n,k = map(int,input().split())\n",
    "case = [int(input()) for _ in range(n)]\n",
    "\n",
    "d = [10001] * 1000001\n",
    "\n",
    "d[0] = 0\n",
    "\n",
    "for i in range(n):\n",
    "    for j in range(case[i],k+1):\n",
    "        d[j] = d[j],d[j-case[i]] + 1)\n",
    "\n",
    "if d[k] == 10001:\n",
    "    print(-1)\n",
    "else:\n",
    "    print(d[k])\n"
   ]
  },
  {
   "cell_type": "code",
   "execution_count": 18,
   "id": "8453dec6",
   "metadata": {},
   "outputs": [
    {
     "name": "stdout",
     "output_type": "stream",
     "text": [
      "Build_Summary_v2\n"
     ]
    }
   ],
   "source": [
    "import requests\n",
    "from requests.auth import HTTPBasicAuth\n",
    "\n",
    "url = 'http://localhost:8080/api/v1/dags'\n",
    "\n",
    "response = requests.get(url, auth=HTTPBasicAuth('airflow','airflow'))\n",
    "data = response.json()\n",
    "\n",
    "for i in data['dags']:\n",
    "    if not i['is_paused']:\n",
    "        print(i['dag_id'])"
   ]
  },
  {
   "cell_type": "code",
   "execution_count": 19,
   "id": "e4c859f8",
   "metadata": {},
   "outputs": [
    {
     "ename": "NameError",
     "evalue": "name 'dd' is not defined",
     "output_type": "error",
     "traceback": [
      "\u001b[0;31m---------------------------------------------------------------------------\u001b[0m",
      "\u001b[0;31mNameError\u001b[0m                                 Traceback (most recent call last)",
      "Cell \u001b[0;32mIn[19], line 1\u001b[0m\n\u001b[0;32m----> 1\u001b[0m \u001b[43mdd\u001b[49m\n",
      "\u001b[0;31mNameError\u001b[0m: name 'dd' is not defined"
     ]
    }
   ],
   "source": [
    "dd\n"
   ]
  },
  {
   "cell_type": "code",
   "execution_count": null,
   "id": "c84b803c",
   "metadata": {},
   "outputs": [],
   "source": [
    "H"
   ]
  }
 ],
 "metadata": {
  "kernelspec": {
   "display_name": "Python 3 (ipykernel)",
   "language": "python",
   "name": "python3"
  },
  "language_info": {
   "codemirror_mode": {
    "name": "ipython",
    "version": 3
   },
   "file_extension": ".py",
   "mimetype": "text/x-python",
   "name": "python",
   "nbconvert_exporter": "python",
   "pygments_lexer": "ipython3",
   "version": "3.10.9"
  }
 },
 "nbformat": 4,
 "nbformat_minor": 5
}
