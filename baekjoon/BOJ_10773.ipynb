{
 "cells": [
  {
   "cell_type": "code",
   "execution_count": 1,
   "outputs": [
    {
     "name": "stdout",
     "output_type": "stream",
     "text": [
      "0\n"
     ]
    }
   ],
   "source": [
    "n = int(input())\n",
    "case = [int(input()) for _ in range(n)]\n",
    "my_stack = []\n",
    "\n",
    "def mistake(number):\n",
    "    if number == 0:\n",
    "        my_stack.pop()\n",
    "    else:\n",
    "        my_stack.append(number)\n",
    "\n",
    "for i in case:\n",
    "    mistake(i)\n",
    "\n",
    "print(sum(my_stack))"
   ],
   "metadata": {
    "collapsed": false,
    "ExecuteTime": {
     "end_time": "2023-09-24T14:49:04.935050Z",
     "start_time": "2023-09-24T14:49:00.464484Z"
    }
   }
  },
  {
   "cell_type": "code",
   "execution_count": null,
   "outputs": [],
   "source": [],
   "metadata": {
    "collapsed": false
   }
  }
 ],
 "metadata": {
  "kernelspec": {
   "display_name": "Python 3",
   "language": "python",
   "name": "python3"
  },
  "language_info": {
   "codemirror_mode": {
    "name": "ipython",
    "version": 2
   },
   "file_extension": ".py",
   "mimetype": "text/x-python",
   "name": "python",
   "nbconvert_exporter": "python",
   "pygments_lexer": "ipython2",
   "version": "2.7.6"
  }
 },
 "nbformat": 4,
 "nbformat_minor": 0
}
