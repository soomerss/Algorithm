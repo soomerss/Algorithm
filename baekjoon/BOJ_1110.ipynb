{
 "cells": [
  {
   "cell_type": "code",
   "execution_count": 11,
   "metadata": {
    "collapsed": true,
    "ExecuteTime": {
     "end_time": "2023-09-20T13:50:50.376218Z",
     "start_time": "2023-09-20T13:50:49.269709Z"
    }
   },
   "outputs": [
    {
     "name": "stdout",
     "output_type": "stream",
     "text": [
      "26 26\n",
      "4\n"
     ]
    }
   ],
   "source": [
    "n = int(input())\n",
    "\n",
    "def cal(number):\n",
    "    if number < 10:\n",
    "        number = '0' + str(number)\n",
    "    number = str(number)\n",
    "    first_number = int(number[0]) + int(number[1])\n",
    "    if first_number < 10:\n",
    "        first_number = '0' + str(first_number)\n",
    "    final_number = number[1] + str(first_number)[1]\n",
    "    return int(final_number)\n",
    "\n",
    "def cycle_check(number):\n",
    "    cycle = 0\n",
    "    checker = number\n",
    "    while True:\n",
    "        cycle += 1\n",
    "        checker = cal(checker)\n",
    "        if checker == number:\n",
    "            return cycle\n",
    "\n",
    "if __name__ == '__main__':\n",
    "   print(cycle_check(n))\n",
    "\n"
   ]
  },
  {
   "cell_type": "code",
   "execution_count": null,
   "outputs": [],
   "source": [],
   "metadata": {
    "collapsed": false
   }
  }
 ],
 "metadata": {
  "kernelspec": {
   "display_name": "Python 3",
   "language": "python",
   "name": "python3"
  },
  "language_info": {
   "codemirror_mode": {
    "name": "ipython",
    "version": 2
   },
   "file_extension": ".py",
   "mimetype": "text/x-python",
   "name": "python",
   "nbconvert_exporter": "python",
   "pygments_lexer": "ipython2",
   "version": "2.7.6"
  }
 },
 "nbformat": 4,
 "nbformat_minor": 0
}
