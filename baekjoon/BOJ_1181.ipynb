{
 "cells": [
  {
   "cell_type": "code",
   "execution_count": null,
   "id": "93b76b8f",
   "metadata": {},
   "outputs": [],
   "source": [
    "n = int(input())\n",
    "case = [input() for _ in range(n)]\n",
    "\n",
    "case = list(set(case))\n",
    "case.sort()\n",
    "case.sort(key=len)\n",
    "\n",
    "for i in case:\n",
    "    print(i)"
   ]
  }
 ],
 "metadata": {
  "kernelspec": {
   "display_name": "Python 3.10.9 ('base')",
   "language": "python",
   "name": "python3"
  },
  "language_info": {
   "codemirror_mode": {
    "name": "ipython",
    "version": 3
   },
   "file_extension": ".py",
   "mimetype": "text/x-python",
   "name": "python",
   "nbconvert_exporter": "python",
   "pygments_lexer": "ipython3",
   "version": "3.10.9"
  },
  "vscode": {
   "interpreter": {
    "hash": "089ce079d7668056cc1bf340ad302cec1a236889edd2fe239a875b48da43b12e"
   }
  }
 },
 "nbformat": 4,
 "nbformat_minor": 5
}
