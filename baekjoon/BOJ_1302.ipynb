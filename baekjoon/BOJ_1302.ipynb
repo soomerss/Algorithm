{
 "cells": [
  {
   "cell_type": "code",
   "execution_count": 1,
   "metadata": {
    "collapsed": true,
    "ExecuteTime": {
     "end_time": "2023-10-02T08:40:09.980002Z",
     "start_time": "2023-10-02T08:39:53.552767Z"
    }
   },
   "outputs": [],
   "source": [
    "n = int(input())\n",
    "case = [input() for _ in range(n)]"
   ]
  },
  {
   "cell_type": "code",
   "execution_count": 2,
   "outputs": [
    {
     "name": "stdout",
     "output_type": "stream",
     "text": [
      "top\n"
     ]
    }
   ],
   "source": [
    "ordered_dict = dict()\n",
    "for word in case:\n",
    "    ordered_dict[word] = ordered_dict.get(word,0) + 1\n",
    "\n",
    "sort_dict = sorted(ordered_dict.items(),key=lambda x : (-x[1],x[0]))\n",
    "\n",
    "print(sort_dict[0][0])"
   ],
   "metadata": {
    "collapsed": false,
    "ExecuteTime": {
     "end_time": "2023-10-02T08:42:13.308981Z",
     "start_time": "2023-10-02T08:42:13.302781Z"
    }
   }
  },
  {
   "cell_type": "code",
   "execution_count": null,
   "outputs": [],
   "source": [],
   "metadata": {
    "collapsed": false
   }
  }
 ],
 "metadata": {
  "kernelspec": {
   "display_name": "Python 3",
   "language": "python",
   "name": "python3"
  },
  "language_info": {
   "codemirror_mode": {
    "name": "ipython",
    "version": 2
   },
   "file_extension": ".py",
   "mimetype": "text/x-python",
   "name": "python",
   "nbconvert_exporter": "python",
   "pygments_lexer": "ipython2",
   "version": "2.7.6"
  }
 },
 "nbformat": 4,
 "nbformat_minor": 0
}
