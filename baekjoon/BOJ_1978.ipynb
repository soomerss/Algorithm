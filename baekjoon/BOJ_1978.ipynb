{
 "cells": [
  {
   "cell_type": "code",
   "execution_count": 4,
   "metadata": {
    "collapsed": true,
    "ExecuteTime": {
     "end_time": "2023-09-21T14:15:01.746324Z",
     "start_time": "2023-09-21T14:14:55.275269Z"
    }
   },
   "outputs": [
    {
     "name": "stdout",
     "output_type": "stream",
     "text": [
      "3\n"
     ]
    }
   ],
   "source": [
    "import copy\n",
    "\n",
    "n = int(input())\n",
    "cases = list(map(int,input().split()))\n",
    "\n",
    "answer = copy.deepcopy(cases)\n",
    "\n",
    "for case in cases:\n",
    "    if case == 1:\n",
    "        answer.remove(1)\n",
    "    else:\n",
    "        for i in range(2,case):\n",
    "            if case % i == 0:\n",
    "                answer.remove(case)\n",
    "                break\n",
    "\n",
    "print(len(answer))"
   ]
  },
  {
   "cell_type": "code",
   "execution_count": 2,
   "outputs": [],
   "source": [
    "for i in range(2,2):\n",
    "    print(i)"
   ],
   "metadata": {
    "collapsed": false,
    "ExecuteTime": {
     "end_time": "2023-09-21T14:12:49.659605Z",
     "start_time": "2023-09-21T14:12:49.653318Z"
    }
   }
  },
  {
   "cell_type": "code",
   "execution_count": null,
   "outputs": [],
   "source": [],
   "metadata": {
    "collapsed": false
   }
  }
 ],
 "metadata": {
  "kernelspec": {
   "display_name": "Python 3",
   "language": "python",
   "name": "python3"
  },
  "language_info": {
   "codemirror_mode": {
    "name": "ipython",
    "version": 2
   },
   "file_extension": ".py",
   "mimetype": "text/x-python",
   "name": "python",
   "nbconvert_exporter": "python",
   "pygments_lexer": "ipython2",
   "version": "2.7.6"
  }
 },
 "nbformat": 4,
 "nbformat_minor": 0
}
