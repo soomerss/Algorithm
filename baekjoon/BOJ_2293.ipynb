{
 "cells": [
  {
   "cell_type": "code",
   "execution_count": 1,
   "id": "4ada39f0",
   "metadata": {},
   "outputs": [
    {
     "name": "stdout",
     "output_type": "stream",
     "text": [
      "3 10\n",
      "1\n",
      "2\n",
      "5\n",
      "10\n"
     ]
    }
   ],
   "source": [
    "n,k = map(int,input().split())\n",
    "coins = [int(input()) for _ in range(n)]\n",
    "\n",
    "dp = [0] * (k+1)\n",
    "dp[0] = 1\n",
    "\n",
    "for coin in coins:\n",
    "    for j in range(coin,k+1):\n",
    "        dp[j] = dp[j] + dp[j-coin]\n",
    "\n",
    "print(dp[k])"
   ]
  },
  {
   "cell_type": "code",
   "execution_count": null,
   "id": "cdcf1bd9",
   "metadata": {},
   "outputs": [],
   "source": []
  }
 ],
 "metadata": {
  "kernelspec": {
   "display_name": "Python 3.10.9 ('base')",
   "language": "python",
   "name": "python3"
  },
  "language_info": {
   "codemirror_mode": {
    "name": "ipython",
    "version": 3
   },
   "file_extension": ".py",
   "mimetype": "text/x-python",
   "name": "python",
   "nbconvert_exporter": "python",
   "pygments_lexer": "ipython3",
   "version": "3.10.9"
  },
  "vscode": {
   "interpreter": {
    "hash": "089ce079d7668056cc1bf340ad302cec1a236889edd2fe239a875b48da43b12e"
   }
  }
 },
 "nbformat": 4,
 "nbformat_minor": 5
}
