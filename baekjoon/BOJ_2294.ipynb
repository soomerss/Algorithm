{
 "cells": [
  {
   "cell_type": "code",
   "execution_count": 6,
   "id": "e1ab33c8",
   "metadata": {},
   "outputs": [
    {
     "name": "stdout",
     "output_type": "stream",
     "text": [
      "3 15\n",
      "1\n",
      "5\n",
      "12\n",
      "3\n"
     ]
    }
   ],
   "source": [
    "n,k = map(int,input().split())\n",
    "case = [int(input()) for _ in range(n)]\n",
    "\n",
    "d = [10001] * 1000001\n",
    "\n",
    "d[0] = 0\n",
    "\n",
    "for i in range(n):\n",
    "    for j in range(case[i],k+1):\n",
    "        d[j] = d[j],d[j-case[i]] + 1)\n",
    "\n",
    "if d[k] == 10001:\n",
    "    print(-1)\n",
    "else:\n",
    "    print(d[k])\n"
   ]
  }
 ],
 "metadata": {
  "kernelspec": {
   "display_name": "Python 3.10.9 ('base')",
   "language": "python",
   "name": "python3"
  },
  "language_info": {
   "codemirror_mode": {
    "name": "ipython",
    "version": 3
   },
   "file_extension": ".py",
   "mimetype": "text/x-python",
   "name": "python",
   "nbconvert_exporter": "python",
   "pygments_lexer": "ipython3",
   "version": "3.10.9"
  },
  "vscode": {
   "interpreter": {
    "hash": "089ce079d7668056cc1bf340ad302cec1a236889edd2fe239a875b48da43b12e"
   }
  }
 },
 "nbformat": 4,
 "nbformat_minor": 5
}
