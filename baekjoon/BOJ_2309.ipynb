{
 "cells": [
  {
   "cell_type": "code",
   "execution_count": 3,
   "metadata": {
    "collapsed": true,
    "ExecuteTime": {
     "end_time": "2023-09-22T12:19:53.655387Z",
     "start_time": "2023-09-22T12:19:44.181216Z"
    }
   },
   "outputs": [],
   "source": [
    "case = [int(input()) for i in range(9)]"
   ]
  },
  {
   "cell_type": "code",
   "execution_count": 11,
   "outputs": [
    {
     "name": "stdout",
     "output_type": "stream",
     "text": [
      "7\n",
      "8\n",
      "10\n",
      "13\n",
      "19\n",
      "20\n",
      "23\n"
     ]
    }
   ],
   "source": [
    "\n",
    "# 요소가 9개일 때 그 합과 특정 요소 2개의 합을 뺀 것이 100인 7개의 요소를 찾는다.\n",
    "sums = sum(case)\n",
    "first_index = 0\n",
    "second_index = 0\n",
    "for i in range(len(case)):\n",
    "    for j in range(1,len(case)):\n",
    "        if sums - (case[i] + case[j]) == 100:\n",
    "            first_index = i\n",
    "            second_index = j\n",
    "            break\n",
    "\n",
    "answer = []\n",
    "for i in range(len(case)):\n",
    "    if i != first_index and i!= second_index:\n",
    "        answer.append(case[i])\n",
    "\n",
    "answer.sort()\n",
    "for i in answer:\n",
    "    print(i)\n"
   ],
   "metadata": {
    "collapsed": false,
    "ExecuteTime": {
     "end_time": "2023-09-22T12:22:50.590476Z",
     "start_time": "2023-09-22T12:22:50.585433Z"
    }
   }
  },
  {
   "cell_type": "code",
   "execution_count": null,
   "outputs": [],
   "source": [],
   "metadata": {
    "collapsed": false
   }
  }
 ],
 "metadata": {
  "kernelspec": {
   "display_name": "Python 3",
   "language": "python",
   "name": "python3"
  },
  "language_info": {
   "codemirror_mode": {
    "name": "ipython",
    "version": 2
   },
   "file_extension": ".py",
   "mimetype": "text/x-python",
   "name": "python",
   "nbconvert_exporter": "python",
   "pygments_lexer": "ipython2",
   "version": "2.7.6"
  }
 },
 "nbformat": 4,
 "nbformat_minor": 0
}
