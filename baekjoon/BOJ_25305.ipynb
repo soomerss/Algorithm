{
 "cells": [
  {
   "cell_type": "code",
   "execution_count": 1,
   "id": "f586c849",
   "metadata": {},
   "outputs": [
    {
     "name": "stdout",
     "output_type": "stream",
     "text": [
      "5 2\n",
      "100 76 85 93 98\n",
      "93\n"
     ]
    }
   ],
   "source": [
    "N, k = map(int,input().split())\n",
    "case = list(map(int,input().split()))\n",
    "\n",
    "case.sort(reverse=True)\n",
    "print(case[k-1])"
   ]
  }
 ],
 "metadata": {
  "kernelspec": {
   "display_name": "Python 3.10.9 ('base')",
   "language": "python",
   "name": "python3"
  },
  "language_info": {
   "codemirror_mode": {
    "name": "ipython",
    "version": 3
   },
   "file_extension": ".py",
   "mimetype": "text/x-python",
   "name": "python",
   "nbconvert_exporter": "python",
   "pygments_lexer": "ipython3",
   "version": "3.10.9"
  },
  "vscode": {
   "interpreter": {
    "hash": "089ce079d7668056cc1bf340ad302cec1a236889edd2fe239a875b48da43b12e"
   }
  }
 },
 "nbformat": 4,
 "nbformat_minor": 5
}
