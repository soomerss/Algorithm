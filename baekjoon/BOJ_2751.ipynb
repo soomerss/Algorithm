{
 "cells": [
  {
   "cell_type": "code",
   "execution_count": 7,
   "metadata": {
    "collapsed": true,
    "ExecuteTime": {
     "end_time": "2023-09-22T11:38:56.484134Z",
     "start_time": "2023-09-22T11:38:56.477324Z"
    }
   },
   "outputs": [
    {
     "name": "stdout",
     "output_type": "stream",
     "text": [
      "\n"
     ]
    }
   ],
   "source": [
    "# jupyter error\n",
    "import sys\n",
    "\n",
    "n = sys.stdin.readline()\n",
    "print(n)\n",
    "n_list = []\n",
    "for i in range(n):\n",
    "    n_list.append(sys.stdin.readline())\n",
    "\n",
    "while n_list:\n",
    "    print(n_list.pop())"
   ]
  }
 ],
 "metadata": {
  "kernelspec": {
   "display_name": "Python 3",
   "language": "python",
   "name": "python3"
  },
  "language_info": {
   "codemirror_mode": {
    "name": "ipython",
    "version": 2
   },
   "file_extension": ".py",
   "mimetype": "text/x-python",
   "name": "python",
   "nbconvert_exporter": "python",
   "pygments_lexer": "ipython2",
   "version": "2.7.6"
  }
 },
 "nbformat": 4,
 "nbformat_minor": 0
}
