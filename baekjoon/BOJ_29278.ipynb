{
 "cells": [
  {
   "cell_type": "code",
   "execution_count": null,
   "metadata": {
    "collapsed": true
   },
   "outputs": [],
   "source": [
    "import sys\n",
    "\n",
    "input = sys.stdin.readline\n",
    "n = int(input())\n",
    "my_stack = []\n",
    "\n",
    "def input_logic():\n",
    "    input_list = input().split()\n",
    "    if len(input_list) > 1:\n",
    "        order = input_list[0]\n",
    "        number = input_list[1]\n",
    "    else :\n",
    "        order = input_list[0]\n",
    "        number = 0\n",
    "    return order, number\n",
    "\n",
    "def stack(order,number):\n",
    "    if order == '1':\n",
    "        my_stack.append(number)\n",
    "    if order == '2':\n",
    "        if my_stack:\n",
    "            print(my_stack.pop())\n",
    "        else:\n",
    "            print(-1)\n",
    "    if order == '3':\n",
    "        print(len(my_stack))\n",
    "    if order == '4':\n",
    "        if my_stack:\n",
    "            print(0)\n",
    "        else:\n",
    "            print(1)\n",
    "    if order == '5':\n",
    "        if my_stack:\n",
    "            print(my_stack[-1])\n",
    "        else:\n",
    "            print(-1)\n",
    "\n",
    "def main():\n",
    "    for _ in range(n):\n",
    "        order, number = input_logic()\n",
    "        stack(order,number)\n",
    "\n",
    "if __name__ == '__main__':\n",
    "    main()"
   ]
  }
 ],
 "metadata": {
  "kernelspec": {
   "display_name": "Python 3",
   "language": "python",
   "name": "python3"
  },
  "language_info": {
   "codemirror_mode": {
    "name": "ipython",
    "version": 2
   },
   "file_extension": ".py",
   "mimetype": "text/x-python",
   "name": "python",
   "nbconvert_exporter": "python",
   "pygments_lexer": "ipython2",
   "version": "2.7.6"
  }
 },
 "nbformat": 4,
 "nbformat_minor": 0
}
