{
 "cells": [
  {
   "cell_type": "code",
   "execution_count": 1,
   "metadata": {
    "collapsed": true,
    "ExecuteTime": {
     "end_time": "2023-09-21T13:39:08.998159Z",
     "start_time": "2023-09-21T13:39:08.995952Z"
    }
   },
   "outputs": [
    {
     "ename": "SyntaxError",
     "evalue": "unexpected EOF while parsing (3369904161.py, line 6)",
     "output_type": "error",
     "traceback": [
      "\u001B[0;36m  Cell \u001B[0;32mIn[1], line 6\u001B[0;36m\u001B[0m\n\u001B[0;31m    for i in case:\u001B[0m\n\u001B[0m                  ^\u001B[0m\n\u001B[0;31mSyntaxError\u001B[0m\u001B[0;31m:\u001B[0m unexpected EOF while parsing\n"
     ]
    }
   ],
   "source": [
    "n = int(input())\n",
    "cases = [input() for _ in range(n)]\n",
    "\n",
    "def solution(cases):\n",
    "    for case in cases:\n",
    "        strike = 0\n",
    "        sum = 0\n",
    "        for string in case:\n",
    "            if string == 'O':\n",
    "                strike += 1\n",
    "                sum += strike\n",
    "            else:\n",
    "                strike =0\n",
    "        print(sum)\n",
    "\n",
    "if __name__==\"__main__\":\n",
    "    solution(cases)\n",
    "\n"
   ]
  },
  {
   "cell_type": "code",
   "execution_count": null,
   "outputs": [],
   "source": [],
   "metadata": {
    "collapsed": false
   }
  }
 ],
 "metadata": {
  "kernelspec": {
   "display_name": "Python 3",
   "language": "python",
   "name": "python3"
  },
  "language_info": {
   "codemirror_mode": {
    "name": "ipython",
    "version": 2
   },
   "file_extension": ".py",
   "mimetype": "text/x-python",
   "name": "python",
   "nbconvert_exporter": "python",
   "pygments_lexer": "ipython2",
   "version": "2.7.6"
  }
 },
 "nbformat": 4,
 "nbformat_minor": 0
}
