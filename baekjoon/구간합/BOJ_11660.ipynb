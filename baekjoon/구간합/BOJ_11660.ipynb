{
 "cells": [
  {
   "cell_type": "markdown",
   "id": "b106d9f5",
   "metadata": {},
   "source": [
    "# 각 행별로 구간합을 구하여 처리한다.\n",
    "## Python에서는 시간초과 pypy는 OK\n",
    "\n",
    "## 어느 정도 최적화 했다고 생각했는데, Python으로 풀기 위해서는 다른 방향이 필요해보임"
   ]
  },
  {
   "cell_type": "code",
   "execution_count": 6,
   "id": "354cf599",
   "metadata": {},
   "outputs": [
    {
     "name": "stdout",
     "output_type": "stream",
     "text": [
      "4 3\n",
      "1 2 3 4\n",
      "2 3 4 5\n",
      "3 4 5 6\n",
      "4 5 6 7\n",
      "2 2 3 4\n",
      "27\n",
      "3 4 3 4\n",
      "6\n",
      "1 1 4 4\n",
      "64\n"
     ]
    }
   ],
   "source": [
    "import sys\n",
    "\n",
    "n, m = map(int,input().split())\n",
    "case = []\n",
    "graph_sum = [[]]\n",
    "\n",
    "# 구간합 한번에 구하기\n",
    "for i in range(n):\n",
    "    row = list(map(int,input().split()))\n",
    "    value_sum = 0\n",
    "    tmp = [0]\n",
    "    for j in row:\n",
    "        value_sum += j\n",
    "        tmp.append(value_sum)\n",
    "    graph_sum.append(tmp)\n",
    "\n",
    "#최종 값 한번에 구하기\n",
    "for j in range(m):\n",
    "    x1,y1,x2,y2 = list(map(int,input().split()))\n",
    "    tmp = 0\n",
    "    for i in range(x1,x2+1):\n",
    "        tmp += graph_sum[i][y2] - graph_sum[i][y1-1]\n",
    "    print(tmp)\n",
    "    \n",
    "# # 구간합 구하기\n",
    "# for i in graph:\n",
    "#     value_sum = 0\n",
    "#     tmp = [0]\n",
    "#     for j in i:\n",
    "#         value_sum += j\n",
    "#         tmp.append(value_sum)\n",
    "#     graph_sum.append(tmp)\n",
    "    \n",
    "# 최종 값 구하기\n",
    "# for row in case:\n",
    "#     x1,y1,x2,y2 = row\n",
    "#     tmp = 0\n",
    "#     for i in range(x1,x2+1):\n",
    "#         tmp += graph_sum[i][y2] - graph_sum[i][y1-1]\n",
    "#     sys.stdout.write(str(tmp)+'\\n')"
   ]
  },
  {
   "cell_type": "code",
   "execution_count": null,
   "id": "a8365ce6",
   "metadata": {},
   "outputs": [],
   "source": [
    "# python 정답"
   ]
  },
  {
   "cell_type": "code",
   "execution_count": null,
   "id": "18293b84",
   "metadata": {},
   "outputs": [],
   "source": [
    "import sys\n",
    "\n",
    "# 입력 받기\n",
    "N, M = map(int, sys.stdin.readline().split())\n",
    "arr = [list(map(int, sys.stdin.readline().split())) for _ in range(N)]\n",
    "\n",
    "# 누적 합 배열 만들기\n",
    "prefix_sum = [[0] * (N + 1) for _ in range(N + 1)]\n",
    "for i in range(1, N + 1):\n",
    "    for j in range(1, N + 1):\n",
    "        prefix_sum[i][j] = prefix_sum[i - 1][j] + prefix_sum[i][j - 1] - prefix_sum[i - 1][j - 1] + arr[i - 1][j - 1]\n",
    "\n",
    "# 구간 합 계산\n",
    "for _ in range(M):\n",
    "    x1, y1, x2, y2 = map(int, sys.stdin.readline().split())\n",
    "    answer = prefix_sum[x2][y2] - prefix_sum[x1 - 1][y2] - prefix_sum[x2][y1 - 1] + prefix_sum[x1 - 1][y1 - 1]\n",
    "    print(answer)"
   ]
  }
 ],
 "metadata": {
  "kernelspec": {
   "display_name": "Python 3 (ipykernel)",
   "language": "python",
   "name": "python3"
  },
  "language_info": {
   "codemirror_mode": {
    "name": "ipython",
    "version": 3
   },
   "file_extension": ".py",
   "mimetype": "text/x-python",
   "name": "python",
   "nbconvert_exporter": "python",
   "pygments_lexer": "ipython3",
   "version": "3.10.9"
  }
 },
 "nbformat": 4,
 "nbformat_minor": 5
}
