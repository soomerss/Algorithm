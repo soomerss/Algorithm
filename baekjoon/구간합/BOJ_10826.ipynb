{
 "cells": [
  {
   "cell_type": "code",
   "execution_count": 14,
   "metadata": {
    "collapsed": true,
    "ExecuteTime": {
     "end_time": "2023-09-17T12:57:02.354661Z",
     "start_time": "2023-09-17T12:57:01.043700Z"
    }
   },
   "outputs": [
    {
     "name": "stdout",
     "output_type": "stream",
     "text": [
      "1597\n"
     ]
    }
   ],
   "source": [
    "n = int(input())\n",
    "\n",
    "dp = [0] * 10002\n",
    "\n",
    "def fibo(n):\n",
    "    for i in range(0,n+1):\n",
    "        if i == 0 :\n",
    "            dp[i] = 0\n",
    "        if i == 1 or i == 2:\n",
    "            dp[i] = 1\n",
    "        if i > 2:\n",
    "            dp[i] = dp[i-1] + dp[i-2]\n",
    "    return dp[n]\n",
    "\n",
    "print(fibo(n))"
   ]
  },
  {
   "cell_type": "code",
   "execution_count": null,
   "outputs": [],
   "source": [],
   "metadata": {
    "collapsed": false
   }
  }
 ],
 "metadata": {
  "kernelspec": {
   "display_name": "Python 3",
   "language": "python",
   "name": "python3"
  },
  "language_info": {
   "codemirror_mode": {
    "name": "ipython",
    "version": 2
   },
   "file_extension": ".py",
   "mimetype": "text/x-python",
   "name": "python",
   "nbconvert_exporter": "python",
   "pygments_lexer": "ipython2",
   "version": "2.7.6"
  }
 },
 "nbformat": 4,
 "nbformat_minor": 0
}
