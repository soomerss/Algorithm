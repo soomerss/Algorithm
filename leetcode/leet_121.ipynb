{
 "cells": [
  {
   "cell_type": "code",
   "execution_count": 1,
   "metadata": {
    "collapsed": true,
    "ExecuteTime": {
     "end_time": "2023-10-23T15:52:06.227615Z",
     "start_time": "2023-10-23T15:52:06.219896Z"
    }
   },
   "outputs": [],
   "source": [
    "case = [7,1,5,3,6,4]"
   ]
  },
  {
   "cell_type": "code",
   "execution_count": 3,
   "outputs": [
    {
     "data": {
      "text/plain": "5"
     },
     "execution_count": 3,
     "metadata": {},
     "output_type": "execute_result"
    }
   ],
   "source": [
    "def sol(case):\n",
    "    profit = 0\n",
    "    min_price = sys.maxsize\n",
    "\n",
    "    for price in case:\n",
    "        min_price = min(price, min_price)\n",
    "        profit = max(profit,price - min_price)\n",
    "    return profit\n",
    "\n",
    "sol(case)"
   ],
   "metadata": {
    "collapsed": false,
    "ExecuteTime": {
     "end_time": "2023-10-23T16:01:45.387232Z",
     "start_time": "2023-10-23T16:01:45.383706Z"
    }
   }
  },
  {
   "cell_type": "code",
   "execution_count": 2,
   "outputs": [
    {
     "data": {
      "text/plain": "9223372036854775807"
     },
     "execution_count": 2,
     "metadata": {},
     "output_type": "execute_result"
    }
   ],
   "source": [
    "import sys\n",
    "\n",
    "sys.maxsize"
   ],
   "metadata": {
    "collapsed": false,
    "ExecuteTime": {
     "end_time": "2023-10-23T15:55:36.382470Z",
     "start_time": "2023-10-23T15:55:36.378425Z"
    }
   }
  }
 ],
 "metadata": {
  "kernelspec": {
   "display_name": "Python 3",
   "language": "python",
   "name": "python3"
  },
  "language_info": {
   "codemirror_mode": {
    "name": "ipython",
    "version": 2
   },
   "file_extension": ".py",
   "mimetype": "text/x-python",
   "name": "python",
   "nbconvert_exporter": "python",
   "pygments_lexer": "ipython2",
   "version": "2.7.6"
  }
 },
 "nbformat": 4,
 "nbformat_minor": 0
}
