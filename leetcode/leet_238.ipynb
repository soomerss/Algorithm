{
 "cells": [
  {
   "cell_type": "code",
   "execution_count": 4,
   "metadata": {
    "collapsed": true,
    "ExecuteTime": {
     "end_time": "2023-10-23T16:18:24.428251Z",
     "start_time": "2023-10-23T16:18:24.423513Z"
    }
   },
   "outputs": [],
   "source": [
    "case = [1,2,3,4]\n"
   ]
  },
  {
   "cell_type": "code",
   "execution_count": 5,
   "outputs": [
    {
     "data": {
      "text/plain": "[24, 12, 8, 6]"
     },
     "execution_count": 5,
     "metadata": {},
     "output_type": "execute_result"
    }
   ],
   "source": [
    "def solution(case):\n",
    "    output = []\n",
    "    # 왼쪽\n",
    "    p = 1\n",
    "    for i in case:\n",
    "        output.append(p)\n",
    "        p *= i\n",
    "\n",
    "    # 오른쪽\n",
    "    p = 1\n",
    "    for i in range(len(case)-1,-1,-1):\n",
    "        output[i] = output[i] * p\n",
    "        p *= case[i]\n",
    "\n",
    "    return output\n",
    "\n",
    "solution(case)\n",
    "\n"
   ],
   "metadata": {
    "collapsed": false,
    "ExecuteTime": {
     "end_time": "2023-10-23T16:18:25.494961Z",
     "start_time": "2023-10-23T16:18:25.492841Z"
    }
   }
  },
  {
   "cell_type": "code",
   "execution_count": 9,
   "outputs": [
    {
     "data": {
      "text/plain": "4"
     },
     "execution_count": 9,
     "metadata": {},
     "output_type": "execute_result"
    }
   ],
   "source": [
    "a = [1,4]\n",
    "b = 1\n",
    "for i in a:\n",
    "    b *= i\n",
    "b"
   ],
   "metadata": {
    "collapsed": false,
    "ExecuteTime": {
     "end_time": "2023-10-23T16:28:09.089221Z",
     "start_time": "2023-10-23T16:28:09.085092Z"
    }
   }
  }
 ],
 "metadata": {
  "kernelspec": {
   "display_name": "Python 3",
   "language": "python",
   "name": "python3"
  },
  "language_info": {
   "codemirror_mode": {
    "name": "ipython",
    "version": 2
   },
   "file_extension": ".py",
   "mimetype": "text/x-python",
   "name": "python",
   "nbconvert_exporter": "python",
   "pygments_lexer": "ipython2",
   "version": "2.7.6"
  }
 },
 "nbformat": 4,
 "nbformat_minor": 0
}
