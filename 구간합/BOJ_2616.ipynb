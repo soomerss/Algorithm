{
 "cells": [
  {
   "cell_type": "code",
   "execution_count": 2,
   "id": "2a22dbea",
   "metadata": {},
   "outputs": [
    {
     "name": "stdout",
     "output_type": "stream",
     "text": [
      "7\n",
      "35 40 50 10 30 45 60\n",
      "2\n",
      "240\n"
     ]
    }
   ],
   "source": [
    "N = int(input())\n",
    "train = list(map(int, input().split(\" \")))\n",
    "L = int(input())\n",
    "ans = 0\n",
    "\n",
    "sum_train = [0] * (N + 1)\n",
    "for i in range(1, N + 1):\n",
    "    sum_train[i] = sum_train[i - 1] + train[i - 1]\n",
    "dp = [[0] * (4) for _ in range(N + 1)]\n",
    "\n",
    "for j in range(1, 4):\n",
    "    for i in range(1, N + 1):\n",
    "        if i - L * j < 0 or N + 1 - L * (3 - j) <= i:\n",
    "            continue\n",
    "        dp[i][j] = max(dp[i - 1][j], dp[i - L][j - 1] + sum_train[i] - sum_train[i - L])\n",
    "\n",
    "print(dp[-1][-1])"
   ]
  },
  {
   "cell_type": "code",
   "execution_count": null,
   "id": "b6b54a74",
   "metadata": {},
   "outputs": [],
   "source": []
  },
  {
   "cell_type": "code",
   "execution_count": null,
   "id": "269e9649",
   "metadata": {},
   "outputs": [],
   "source": []
  }
 ],
 "metadata": {
  "kernelspec": {
   "display_name": "Python 3 (ipykernel)",
   "language": "python",
   "name": "python3"
  },
  "language_info": {
   "codemirror_mode": {
    "name": "ipython",
    "version": 3
   },
   "file_extension": ".py",
   "mimetype": "text/x-python",
   "name": "python",
   "nbconvert_exporter": "python",
   "pygments_lexer": "ipython3",
   "version": "3.10.9"
  }
 },
 "nbformat": 4,
 "nbformat_minor": 5
}
