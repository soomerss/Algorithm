{
 "cells": [
  {
   "cell_type": "code",
   "execution_count": 7,
   "id": "c4926617",
   "metadata": {},
   "outputs": [
    {
     "name": "stdout",
     "output_type": "stream",
     "text": [
      "1\n",
      "2\n",
      "3\n",
      "4\n",
      "5\n",
      "6\n",
      "[35, 75, 125, 135, 165, 210, 270]\n"
     ]
    }
   ],
   "source": [
    "from itertools import combinations\n",
    "\n",
    "N=7\n",
    "nums = [35, 40 ,50, 10, 30, 45 ,60]\n",
    "for i in range(1,N):\n",
    "    nums[i] += nums[i-1]\n",
    "    print(i)\n",
    "\n",
    "print(nums)"
   ]
  }
 ],
 "metadata": {
  "kernelspec": {
   "display_name": "Python 3 (ipykernel)",
   "language": "python",
   "name": "python3"
  },
  "language_info": {
   "codemirror_mode": {
    "name": "ipython",
    "version": 3
   },
   "file_extension": ".py",
   "mimetype": "text/x-python",
   "name": "python",
   "nbconvert_exporter": "python",
   "pygments_lexer": "ipython3",
   "version": "3.10.9"
  }
 },
 "nbformat": 4,
 "nbformat_minor": 5
}
