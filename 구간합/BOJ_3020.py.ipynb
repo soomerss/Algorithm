{
 "cells": [
  {
   "cell_type": "code",
   "execution_count": 51,
   "id": "4c9246d5",
   "metadata": {},
   "outputs": [
    {
     "name": "stdout",
     "output_type": "stream",
     "text": [
      "6 7\n",
      "1\n",
      "5\n",
      "3\n",
      "3\n",
      "5\n",
      "1\n",
      "2 3\n"
     ]
    }
   ],
   "source": [
    "n, h = map(int,input().split())\n",
    "\n",
    "down = []\n",
    "up = [] \n",
    "for i in range(n):\n",
    "    if i%2==0:\n",
    "        down.append(int(input()))\n",
    "    else:\n",
    "        up.append(int(input()))\n",
    "        \n",
    "down.sort()\n",
    "up.sort()\n",
    "\n",
    "min_count = n\n",
    "range_count = 0\n",
    "\n",
    "def binary_search(array, target,start,end):\n",
    "    while start <= end:\n",
    "        mid = (start + end) // 2\n",
    "        if array[mid] < target:\n",
    "            start = mid +1\n",
    "        else : \n",
    "            end = mid -1\n",
    "    return start \n",
    "\n",
    "for i in range(1,h+1):\n",
    "    down_count = len(down) - binary_search(down,i-0.5,0,len(down)-1)\n",
    "    up_count = len(up) - binary_search(up,h - i + 0.5,0,len(up)-1)\n",
    "    \n",
    "    if min_count == down_count + up_count:\n",
    "        range_count += 1\n",
    "    elif min_count > down_count + up_count:\n",
    "        range_count = 1\n",
    "        min_count = down_count + up_count\n",
    "\n",
    "print(min_count,range_count)\n"
   ]
  },
  {
   "cell_type": "code",
   "execution_count": null,
   "id": "c693096b",
   "metadata": {},
   "outputs": [],
   "source": [
    "n"
   ]
  },
  {
   "cell_type": "code",
   "execution_count": 47,
   "id": "6fad4871",
   "metadata": {},
   "outputs": [],
   "source": [
    "# 석순\n",
    "count_dict_bot = {}\n",
    "sum_dict_bot = {}\n",
    "for i in range(1,h+1):\n",
    "    count_dict_bot[i] = case_bot.count(i)\n",
    "\n",
    "for i in range(h,0,-1):\n",
    "    if i == h:\n",
    "        sum_dict_bot[i] = count_dict_bot[i]\n",
    "    else:\n",
    "        sum_dict_bot[i] = sum_dict_bot[i+1] + count_dict_bot[i]\n",
    "\n",
    "# 위에서 떨어지는거 관계는 길이가 크면 하나 작으면 전부\n",
    "count_dict_up = {}\n",
    "sum_dict_up = {}\n",
    "for i in range(1,h+1):\n",
    "    count_dict_up[i] = case_up.count(i)\n",
    "\n",
    "for i in range(h,0,-1):\n",
    "    if i == h:\n",
    "        sum_dict_up[i] = count_dict_up[i]\n",
    "    else:\n",
    "        sum_dict_up[i] = sum_dict_up[i+1] + count_dict_up[i]    "
   ]
  },
  {
   "cell_type": "code",
   "execution_count": 48,
   "id": "11b427dc",
   "metadata": {},
   "outputs": [],
   "source": [
    "minimum = 500001\n",
    "index = 0\n",
    "for i in range(1,h+1):\n",
    "    if sum_dict_bot[i]+sum_dict_up[h-i+1] < minimum:\n",
    "        minimum = min(sum_dict_bot[i]+sum_dict_up[h-i+1],minimum)\n",
    "        index = i+1\n",
    "print(minimum,index)"
   ]
  },
  {
   "cell_type": "code",
   "execution_count": null,
   "id": "d72487db",
   "metadata": {},
   "outputs": [],
   "source": [
    "n, h = map(int,input().split())\n",
    "case_up = []\n",
    "case_bot = [] \n",
    "for i in range(n):\n",
    "    if i%2==0:\n",
    "        case_bot.append(int(input()))\n",
    "    else:\n",
    "        case_up.append(int(input()))\n",
    "# 석순\n",
    "count_dict_bot = {}\n",
    "sum_dict_bot = {}\n",
    "for i in range(1,h+1):\n",
    "    count_dict_bot[i] = case_bot.count(i)\n",
    "\n",
    "for i in range(h,0,-1):\n",
    "    if i == h:\n",
    "        sum_dict_bot[i] = count_dict_bot[i]\n",
    "    else:\n",
    "        sum_dict_bot[i] = sum_dict_bot[i+1] + count_dict_bot[i]\n",
    "\n",
    "# 위에서 떨어지는거 관계는 길이가 크면 하나 작으면 전부\n",
    "count_dict_up = {}\n",
    "sum_dict_up = {}\n",
    "for i in range(1,h+1):\n",
    "    count_dict_up[i] = case_up.count(i)\n",
    "\n",
    "for i in range(h,0,-1):\n",
    "    if i == h:\n",
    "        sum_dict_up[i] = count_dict_up[i]\n",
    "    else:\n",
    "        sum_dict_up[i] = sum_dict_up[i+1] + count_dict_up[i] \n",
    "        \n",
    "minimum = 500001\n",
    "index = 0\n",
    "for i in range(1,h+1):\n",
    "    if sum_dict_bot[i]+sum_dict_up[h-i+1] < minimum:\n",
    "        minimum = min(sum_dict_bot[i]+sum_dict_up[h-i+1],minimum)\n",
    "        index = i+1\n",
    "print(minimum,index)"
   ]
  }
 ],
 "metadata": {
  "kernelspec": {
   "display_name": "Python 3 (ipykernel)",
   "language": "python",
   "name": "python3"
  },
  "language_info": {
   "codemirror_mode": {
    "name": "ipython",
    "version": 3
   },
   "file_extension": ".py",
   "mimetype": "text/x-python",
   "name": "python",
   "nbconvert_exporter": "python",
   "pygments_lexer": "ipython3",
   "version": "3.10.9"
  }
 },
 "nbformat": 4,
 "nbformat_minor": 5
}
